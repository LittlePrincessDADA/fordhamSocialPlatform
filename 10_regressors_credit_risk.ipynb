{
 "cells": [
  {
   "cell_type": "code",
   "execution_count": 30,
   "metadata": {},
   "outputs": [],
   "source": [
    "import numpy as np\n",
    "import matplotlib.pyplot as plt\n",
    "from matplotlib.colors import ListedColormap\n",
    "from sklearn.model_selection import train_test_split\n",
    "from sklearn.preprocessing import StandardScaler\n",
    "from sklearn.datasets import make_moons, make_circles, make_classification\n",
    "from sklearn.neighbors import KNeighborsRegressor\n",
    "from sklearn.svm import SVR\n",
    "from sklearn.tree import DecisionTreeRegressor\n",
    "from sklearn.ensemble import RandomForestRegressor\n",
    "from sklearn.naive_bayes import GaussianNB\n",
    "from sklearn.discriminant_analysis import QuadraticDiscriminantAnalysis\n",
    "from sklearn.ensemble import GradientBoostingRegressor,AdaBoostRegressor,BaggingRegressor\n",
    "from sklearn.discriminant_analysis import LinearDiscriminantAnalysis\n",
    "from sklearn.neural_network import MLPRegressor\n",
    "from sklearn import linear_model\n",
    "from sklearn.model_selection import train_test_split\n",
    "import csv\n",
    "import time\n",
    "import math\n",
    "from sklearn.cluster import KMeans\n",
    "\n",
    "from sklearn import preprocessing, cross_validation, neighbors\n",
    "import compute_measure\n",
    "import pandas as pd\n",
    "from numpy import genfromtxt, savetxt"
   ]
  },
  {
   "cell_type": "code",
   "execution_count": 31,
   "metadata": {
    "collapsed": true
   },
   "outputs": [],
   "source": [
    "\n",
    "df = pd.read_csv(\"credit_risk_data_balanced.csv\")\n",
    "\n",
    "X = np.array(df.drop(['Delinquency'],1))\n",
    "y = np.array(df['Delinquency'])\n",
    "\n",
    "X_train, X_test, y_train, y_test = cross_validation.train_test_split(X,y,test_size=0.2)\n",
    "#split 10% of the dataset to test the performance of each classifiers\n",
    "A_train, A_test, b_train, b_test = cross_validation.train_test_split(X_train,y_train,test_size=0.2)\n",
    "\n",
    "names = [ \"k-NN\",\n",
    "\t\t \"DecisionTree\",\n",
    "\t\t \"RandomForest\",\n",
    "\t\t \"AdaBoost\",\n",
    "\t\t \"BaggingRegressor\",\n",
    "\t\t \"Gradient Boosting\",\n",
    "\t\t \"MLP\",\n",
    "\t\t \"Bayesian Ridge\"]\n",
    "\n",
    "\n",
    "regressors = [\n",
    "\tKNeighborsRegressor(3),\n",
    "\tDecisionTreeRegressor(max_depth=5),\n",
    "\tRandomForestRegressor(max_depth=5, n_estimators=10, max_features=1),\n",
    "\tAdaBoostRegressor(),\n",
    "\tBaggingRegressor(),\n",
    "\tGradientBoostingRegressor(),\n",
    "\tMLPRegressor(alpha=1e-5, hidden_layer_sizes=(100, 1),  max_iter=5000),\n",
    "\tlinear_model.BayesianRidge()]\n",
    "\n",
    "\n",
    "def get_MSE(Error):\n",
    "\tmse=np.sum(np.power(Error,2))\n",
    "\tmse=mse/len(Error)\n",
    "\treturn mse"
   ]
  },
  {
   "cell_type": "code",
   "execution_count": 32,
   "metadata": {
    "collapsed": true
   },
   "outputs": [
    {
     "name": "stdout",
     "output_type": "stream",
     "text": [
      "\n",
      "\n",
      "The Model k-NN Peformance Summary as follows:\n",
      "The MSE is             1.2122118380062306\n",
      "The mean error is      0.9121495327102803\n",
      "The maximum error is   2.0000000000000000\n",
      "The minimum error is   0.0000000000000000\n",
      "\n",
      "\n",
      "The Model DecisionTree Peformance Summary as follows:\n",
      "The MSE is             0.6661381904435822\n",
      "The mean error is      0.6550939794413131\n",
      "The maximum error is   1.9565217391304348\n",
      "The minimum error is   0.0434782608695652\n",
      "\n",
      "\n",
      "The Model RandomForest Peformance Summary as follows:\n",
      "The MSE is             0.7003327559345772\n",
      "The mean error is      0.7720917627653245\n",
      "The maximum error is   1.8385538420946297\n",
      "The minimum error is   0.1584787921156016\n",
      "\n",
      "\n",
      "The Model AdaBoost Peformance Summary as follows:\n",
      "The MSE is             0.7004467223094235\n",
      "The mean error is      0.7403839980930607\n",
      "The maximum error is   1.8487060384870604\n",
      "The minimum error is   0.1512939615129396\n",
      "\n",
      "\n",
      "The Model BaggingRegressor Peformance Summary as follows:\n",
      "The MSE is             0.7071551401869158\n",
      "The mean error is      0.6263177570093458\n",
      "The maximum error is   2.0000000000000000\n",
      "The minimum error is   0.0000000000000000\n",
      "\n",
      "\n",
      "The Model Gradient Boosting Peformance Summary as follows:\n",
      "The MSE is             0.6342416129778792\n",
      "The mean error is      0.6386701313936711\n",
      "The maximum error is   2.0454416090209184\n",
      "The minimum error is   0.0009147490902807\n",
      "\n",
      "\n",
      "The Model MLP Peformance Summary as follows:\n",
      "The MSE is             0.9997969920519387\n",
      "The mean error is      0.9998674572611028\n",
      "The maximum error is   1.0078789294788948\n",
      "The minimum error is   0.9921210705211052\n",
      "\n",
      "\n",
      "The Model Bayesian Ridge Peformance Summary as follows:\n",
      "The MSE is             0.9065811653045042\n",
      "The mean error is      0.9086386631913326\n",
      "The maximum error is   2.3881167386539852\n",
      "The minimum error is   0.0021571324975389\n",
      "\n",
      "\n",
      "Top Three Regressors:\n",
      "Gradient Boosting\n",
      "The MSE is             0.6342416129778792\n",
      "DecisionTree\n",
      "The MSE is             0.6661381904435822\n",
      "RandomForest\n",
      "The MSE is             0.7003327559345772\n"
     ]
    }
   ],
   "source": [
    "copy_names = list(names)\n",
    "MSE = []\n",
    "for name, reg in zip(names, regressors):\n",
    "\treg.fit(A_train, b_train)\n",
    "\tError_reg   = [None] * len(A_train)\n",
    "\tpredictedIV = reg.predict(A_test)\n",
    "\tError_reg   = abs(b_test - predictedIV)\n",
    "\tprint('\\n\\nThe Model '+ name + ' Peformance Summary as follows:')\n",
    "\tprint('The MSE is           {:20.16f}'.format(get_MSE(Error_reg)))\n",
    "\tprint('The mean error is    {:20.16f}'.format(np.mean(Error_reg)))\n",
    "\tprint('The maximum error is {:20.16f}'.format(max(Error_reg)))\n",
    "\tprint('The minimum error is {:20.16f}'.format(min(Error_reg)))\n",
    "\tMSE.append(get_MSE(Error_reg))\n",
    "\n",
    "new_regressors = sorted(zip(MSE, copy_names, regressors))[:3]\n",
    "\n",
    "print(\"\\n\\nTop Three Regressors:\")\n",
    "\n",
    "for MSE, name, reg in new_regressors:\n",
    "\tprint(name)\n",
    "\tprint('The MSE is           {:20.16f}'.format(MSE))\n"
   ]
  },
  {
   "cell_type": "code",
   "execution_count": 33,
   "metadata": {
    "collapsed": true
   },
   "outputs": [
    {
     "name": "stdout",
     "output_type": "stream",
     "text": [
      "\n",
      "\n",
      "\n",
      "\n",
      "Consensus Learning Method:\n",
      "\n",
      "\n",
      "The Model Gradient Boosting Peformance Summary as follows:\n",
      "The MSE is             0.6541269538247352\n",
      "The mean error is      0.6434745263892173\n",
      "The maximum error is   2.0553953617411844\n",
      "The minimum error is   0.0004604433568107\n",
      "\n",
      "\n",
      "The Model DecisionTree Peformance Summary as follows:\n",
      "The MSE is             0.6920514477331154\n",
      "The mean error is      0.6634041329858147\n",
      "The maximum error is   2.0000000000000000\n",
      "The minimum error is   0.0000000000000000\n",
      "\n",
      "\n",
      "The Model RandomForest Peformance Summary as follows:\n",
      "The MSE is             0.6962928383812714\n",
      "The mean error is      0.7584990344568229\n",
      "The maximum error is   1.8082332693465057\n",
      "The minimum error is   0.1233552107977272\n",
      "\n",
      "\n",
      "Sorted:\n",
      "Gradient Boosting\n",
      "0.654126953825\n",
      "DecisionTree\n",
      "0.692051447733\n",
      "RandomForest\n",
      "0.696292838381\n"
     ]
    }
   ],
   "source": [
    "\n",
    "print(\"\\n\\n\\n\")\n",
    "print(\"Consensus Learning Method:\")\n",
    "\n",
    "\n",
    "prediction_results = []\n",
    "\n",
    "new_MSE = []\n",
    "new_name_list = []\n",
    "new_regressors_list = []\n",
    "for MSE, name, reg in new_regressors:\n",
    "\treg.fit(X_train, y_train)\n",
    "\tError_reg   = [None] * len(X_train)\n",
    "\tpredictedIV = reg.predict(X_test)\n",
    "\tprediction_results.append(predictedIV)\n",
    "\tError_reg   = abs(y_test - predictedIV)\n",
    "\tprint('\\n\\nThe Model '+ name + ' Peformance Summary as follows:')\n",
    "\tprint('The MSE is           {:20.16f}'.format(get_MSE(Error_reg)))\n",
    "\tprint('The mean error is    {:20.16f}'.format(np.mean(Error_reg)))\n",
    "\tprint('The maximum error is {:20.16f}'.format(max(Error_reg)))\n",
    "\tprint('The minimum error is {:20.16f}'.format(min(Error_reg)))\n",
    "\tnew_MSE.append(get_MSE(Error_reg))\n",
    "\tnew_name_list.append(name)\n",
    "\n",
    "sorted_regressors = sorted(zip(new_MSE, new_name_list, prediction_results))\n",
    "print('\\n\\nSorted:')\n",
    "sorted_new_MSE = []\n",
    "for MSE, name, pred in sorted_regressors:\n",
    "\tprint(name)\n",
    "\tprint(MSE)\n",
    "\tsorted_new_MSE.append(MSE)\n",
    "\n",
    "\n"
   ]
  },
  {
   "cell_type": "code",
   "execution_count": 34,
   "metadata": {},
   "outputs": [],
   "source": [
    "# weighting algorithm #1\n",
    "weights_1 = (1/sorted_new_MSE[0])/(1/np.sum(sorted_new_MSE))\n",
    "weights_2 = (1/sorted_new_MSE[1])/(1/np.sum(sorted_new_MSE))\n",
    "weights_3 = (1/sorted_new_MSE[2])/(1/np.sum(sorted_new_MSE))\n",
    "\n",
    "# weighting algorithm #2\n",
    "weights_4 = (1/math.pow(sorted_new_MSE[0], 2))/(1/math.pow(np.sum(sorted_new_MSE), 2))\n",
    "weights_5 = (1/math.pow(sorted_new_MSE[1], 2))/(1/math.pow(np.sum(sorted_new_MSE), 2))\n",
    "weights_6 = (1/math.pow(sorted_new_MSE[2], 2))/(1/math.pow(np.sum(sorted_new_MSE), 2))\n",
    "\n",
    "# weighting algorithm #3\n",
    "weights_7 = (1/math.log(math.pow(sorted_new_MSE[0], 2)))/(1/math.log(math.pow(np.sum(sorted_new_MSE), 2)))\n",
    "weights_8 = (1/math.log(math.pow(sorted_new_MSE[1], 2)))/(1/math.log(math.pow(np.sum(sorted_new_MSE), 2)))\n",
    "weights_9 = (1/math.log(math.pow(sorted_new_MSE[2], 2)))/(1/math.log(math.pow(np.sum(sorted_new_MSE), 2)))\n"
   ]
  },
  {
   "cell_type": "code",
   "execution_count": 37,
   "metadata": {
    "collapsed": false
   },
   "outputs": [
    {
     "name": "stdout",
     "output_type": "stream",
     "text": [
      "\n",
      "\n",
      "\n",
      "\n"
     ]
    },
    {
     "data": {
      "image/png": "[encoded data removed]",
      "text/plain": [
       "<matplotlib.figure.Figure at 0x1a1a892910>"
      ]
     },
     "metadata": {},
     "output_type": "display_data"
    }
   ],
   "source": [
    "print(\"\\n\\n\\n\")\n",
    "prediction_sum = np.zeros_like(prediction_results[0])\n",
    "prediction_sum.fill(0)\n",
    "\n",
    "for i in range(y_test.size):\n",
    "\tprediction_sum[i] = prediction_results[0][i]*weights_1 + prediction_results[1][i]*weights_2 + prediction_results[2][i]*weights_3\n",
    "   \n",
    "plt.hist(prediction_sum, bins = 100)\n",
    "plt.show()"
   ]
  },
  {
   "cell_type": "code",
   "execution_count": 38,
   "metadata": {
    "collapsed": false
   },
   "outputs": [
    {
     "data": {
      "text/plain": [
       "array([[ 4.40697284],\n",
       "       [-4.08422155]])"
      ]
     },
     "execution_count": 38,
     "metadata": {},
     "output_type": "execute_result"
    }
   ],
   "source": [
    "kmeans = KMeans(n_clusters=2, random_state=0).fit(prediction_sum.reshape(-1, 1))\n",
    "kmeans.cluster_centers_"
   ]
  },
  {
   "cell_type": "code",
   "execution_count": 39,
   "metadata": {
    "collapsed": false
   },
   "outputs": [
    {
     "name": "stdout",
     "output_type": "stream",
     "text": [
      "\n",
      "\n",
      "\n",
      "\n"
     ]
    },
    {
     "data": {
      "image/png": "[encoded data removed]",
      "text/plain": [
       "<matplotlib.figure.Figure at 0x1a1b657b90>"
      ]
     },
     "metadata": {},
     "output_type": "display_data"
    }
   ],
   "source": [
    "print(\"\\n\\n\\n\")\n",
    "prediction_sum = np.zeros_like(prediction_results[0])\n",
    "prediction_sum.fill(0)\n",
    "\n",
    "for i in range(y_test.size):\n",
    "\tprediction_sum[i] = prediction_results[0][i]*weights_4 + prediction_results[1][i]*weights_5 + prediction_results[2][i]*weights_6\n",
    "\n",
    "plt.hist(prediction_sum, bins = 100)\n",
    "plt.show()"
   ]
  },
  {
   "cell_type": "code",
   "execution_count": 40,
   "metadata": {},
   "outputs": [
    {
     "data": {
      "text/plain": [
       "array([[ 13.1059218],\n",
       "       [-12.4752238]])"
      ]
     },
     "execution_count": 40,
     "metadata": {},
     "output_type": "execute_result"
    }
   ],
   "source": [
    "kmeans = KMeans(n_clusters=2, random_state=0).fit(prediction_sum.reshape(-1, 1))\n",
    "kmeans.cluster_centers_"
   ]
  },
  {
   "cell_type": "code",
   "execution_count": 41,
   "metadata": {
    "collapsed": false
   },
   "outputs": [
    {
     "name": "stdout",
     "output_type": "stream",
     "text": [
      "\n",
      "\n",
      "\n",
      "\n"
     ]
    },
    {
     "data": {
      "image/png": "[encoded data removed]",
      "text/plain": [
       "<matplotlib.figure.Figure at 0x1a1bf77e10>"
      ]
     },
     "metadata": {},
     "output_type": "display_data"
    }
   ],
   "source": [
    "print(\"\\n\\n\\n\")\n",
    "prediction_sum = np.zeros_like(prediction_results[0])\n",
    "prediction_sum.fill(0)\n",
    "\n",
    "\n",
    "\n",
    "for i in range(y_test.size):\n",
    "    prediction_sum[i] = prediction_results[0][i]*weights_7 + prediction_results[1][i]*weights_8 + prediction_results[2][i]*weights_9\n",
    "\n",
    "plt.hist(prediction_sum, bins = 100)\n",
    "plt.show()"
   ]
  },
  {
   "cell_type": "code",
   "execution_count": 21,
   "metadata": {},
   "outputs": [
    {
     "data": {
      "text/plain": [
       "array([[ 2.67383816],\n",
       "       [-2.22553719]])"
      ]
     },
     "execution_count": 21,
     "metadata": {},
     "output_type": "execute_result"
    }
   ],
   "source": [
    "kmeans = KMeans(n_clusters=2, random_state=0).fit(prediction_sum.reshape(-1, 1))\n",
    "kmeans.cluster_centers_"
   ]
  }
 ],
 "metadata": {
  "kernelspec": {
   "display_name": "Python 2",
   "language": "python",
   "name": "python2"
  },
  "language_info": {
   "codemirror_mode": {
    "name": "ipython",
    "version": 2
   },
   "file_extension": ".py",
   "mimetype": "text/x-python",
   "name": "python",
   "nbconvert_exporter": "python",
   "pygments_lexer": "ipython2",
   "version": "2.7.13"
  }
 },
 "nbformat": 4,
 "nbformat_minor": 2
}
